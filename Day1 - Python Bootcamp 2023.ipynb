{
  "cells": [
    {
      "cell_type": "markdown",
      "metadata": {
        "id": "view-in-github",
        "colab_type": "text"
      },
      "source": [
        "<a href=\"https://colab.research.google.com/github/Manoranjanhere/pythonnewclass/blob/main/Day1%20-%20Python%20Bootcamp%202023.ipynb\" target=\"_parent\"><img src=\"https://colab.research.google.com/assets/colab-badge.svg\" alt=\"Open In Colab\"/></a>"
      ]
    },
    {
      "cell_type": "markdown",
      "source": [
        "# **Python Output**\n",
        "\n",
        "Syntax: print(value, ..., sep='', end = '\\n', file = sys.stdout, flush = False)"
      ],
      "metadata": {
        "id": "rhcrbR9jDJ5-"
      }
    },
    {
      "cell_type": "code",
      "source": [
        "#seperating or changing space values\n",
        "print(\"hello\",\"world\",sep=\"*\")\n",
        "print()\n"
      ],
      "metadata": {
        "id": "1ZJWxY-RDNt9",
        "outputId": "b15088d4-52ed-4b71-cd9a-0d1fb2d46b60",
        "colab": {
          "base_uri": "https://localhost:8080/"
        }
      },
      "execution_count": 1,
      "outputs": [
        {
          "output_type": "stream",
          "name": "stdout",
          "text": [
            "hello*world\n"
          ]
        }
      ]
    },
    {
      "cell_type": "code",
      "source": [
        "# printing two statemetns in a line\n",
        "print(\"hello\",end=\" \")\n",
        "print(\"world\")\n"
      ],
      "metadata": {
        "id": "b2X6sZUPD2pt",
        "outputId": "aae9d250-e016-43d0-d530-ec0ad8a9f49d",
        "colab": {
          "base_uri": "https://localhost:8080/"
        }
      },
      "execution_count": 2,
      "outputs": [
        {
          "output_type": "stream",
          "name": "stdout",
          "text": [
            "hello world\n"
          ]
        }
      ]
    },
    {
      "cell_type": "markdown",
      "source": [
        "# **Data Types in Python**"
      ],
      "metadata": {
        "id": "oRLwXYOrEBM9"
      }
    },
    {
      "cell_type": "code",
      "source": [
        "# 1) Integer\n",
        "print(5)"
      ],
      "metadata": {
        "id": "tz7HKv-iEEnd",
        "outputId": "f634bb31-0241-40ca-b8f5-d2dd0682a10b",
        "colab": {
          "base_uri": "https://localhost:8080/"
        }
      },
      "execution_count": 3,
      "outputs": [
        {
          "output_type": "stream",
          "name": "stdout",
          "text": [
            "5\n"
          ]
        }
      ]
    },
    {
      "cell_type": "code",
      "source": [
        "# 2) Decimal Float\n",
        "print(0.7)\n"
      ],
      "metadata": {
        "id": "yqj3t-VIEqU1",
        "outputId": "7626af46-cf07-453d-b138-f3daab45e6aa",
        "colab": {
          "base_uri": "https://localhost:8080/"
        }
      },
      "execution_count": 6,
      "outputs": [
        {
          "output_type": "stream",
          "name": "stdout",
          "text": [
            "0.7\n"
          ]
        }
      ]
    },
    {
      "cell_type": "code",
      "source": [
        "# 3) Boolean\n",
        "print(0)\n",
        "print(1)\n",
        "print(True)\n",
        "print(False)\n"
      ],
      "metadata": {
        "id": "ESY_khogEuo2",
        "outputId": "c1fc35f6-824d-4167-a8ae-0c608f75fc45",
        "colab": {
          "base_uri": "https://localhost:8080/"
        }
      },
      "execution_count": 5,
      "outputs": [
        {
          "output_type": "stream",
          "name": "stdout",
          "text": [
            "0\n",
            "1\n",
            "True\n",
            "False\n"
          ]
        }
      ]
    },
    {
      "cell_type": "code",
      "source": [
        "# 4) Text/Strings\n",
        "print(\"hi\")"
      ],
      "metadata": {
        "id": "_JAmgCH8E0Qe",
        "outputId": "5b55f1ee-82c4-493c-82be-a91c4155f4c1",
        "colab": {
          "base_uri": "https://localhost:8080/"
        }
      },
      "execution_count": 8,
      "outputs": [
        {
          "output_type": "stream",
          "name": "stdout",
          "text": [
            "hi\n"
          ]
        }
      ]
    },
    {
      "cell_type": "code",
      "source": [
        "# 5) Complex\n",
        "print(4+5j)"
      ],
      "metadata": {
        "id": "MAa_nZTME6IK",
        "outputId": "efbe3da2-ced9-455a-d116-658511d3b222",
        "colab": {
          "base_uri": "https://localhost:8080/"
        }
      },
      "execution_count": 20,
      "outputs": [
        {
          "output_type": "stream",
          "name": "stdout",
          "text": [
            "(4+5j)\n"
          ]
        }
      ]
    },
    {
      "cell_type": "code",
      "source": [
        "# 6) List\n",
        "print(4,\"list\",True)"
      ],
      "metadata": {
        "id": "S3E4MoRIE97R",
        "outputId": "251902fa-4897-4703-de3d-2533796a6d04",
        "colab": {
          "base_uri": "https://localhost:8080/"
        }
      },
      "execution_count": 10,
      "outputs": [
        {
          "output_type": "stream",
          "name": "stdout",
          "text": [
            "4 list True\n"
          ]
        }
      ]
    },
    {
      "cell_type": "code",
      "source": [
        "# 7) Tuple\n",
        "print((1,3,4,\"hi\",1))"
      ],
      "metadata": {
        "id": "W0b0W8hYFAYd",
        "outputId": "10017040-5acd-4148-d106-1a93352c6532",
        "colab": {
          "base_uri": "https://localhost:8080/"
        }
      },
      "execution_count": 18,
      "outputs": [
        {
          "output_type": "stream",
          "name": "stdout",
          "text": [
            "(1, 3, 4, 'hi', 1)\n"
          ]
        }
      ]
    },
    {
      "cell_type": "code",
      "source": [
        "# 8) Sets\n",
        "print({1,2,3,4,2})"
      ],
      "metadata": {
        "id": "KUJLKg1IFEeP",
        "outputId": "76e7510d-7736-4bcd-c42c-c4b1c027e422",
        "colab": {
          "base_uri": "https://localhost:8080/"
        }
      },
      "execution_count": 13,
      "outputs": [
        {
          "output_type": "stream",
          "name": "stdout",
          "text": [
            "{1, 2, 3, 4}\n"
          ]
        }
      ]
    },
    {
      "cell_type": "code",
      "source": [
        "# 9) Dictionary\n",
        "print({\"name\":\"Python\"})"
      ],
      "metadata": {
        "id": "AnA-TREeFHGV",
        "outputId": "dcac90e9-1219-4862-c88b-92f6f103a9e5",
        "colab": {
          "base_uri": "https://localhost:8080/"
        }
      },
      "execution_count": 16,
      "outputs": [
        {
          "output_type": "stream",
          "name": "stdout",
          "text": [
            "{'name': 'Python'}\n"
          ]
        }
      ]
    },
    {
      "cell_type": "code",
      "source": [
        "# How to check types?\n",
        "type(\"hello\")\n",
        "type(5.7)\n",
        "\n"
      ],
      "metadata": {
        "id": "3m8zOIb6FJJ_",
        "colab": {
          "base_uri": "https://localhost:8080/"
        },
        "outputId": "6be14920-49c8-40fc-9355-4e1617a3d6b6"
      },
      "execution_count": 25,
      "outputs": [
        {
          "output_type": "execute_result",
          "data": {
            "text/plain": [
              "float"
            ]
          },
          "metadata": {},
          "execution_count": 25
        }
      ]
    },
    {
      "cell_type": "markdown",
      "source": [
        "# **VARIABLE DECLARATION IN PYTHON**\n",
        "Variables are containers for future use."
      ],
      "metadata": {
        "id": "ezCMX1A6FZmD"
      }
    },
    {
      "cell_type": "code",
      "source": [
        "# Conventional Declaration method\n",
        "num =8,7\n",
        "print(num)"
      ],
      "metadata": {
        "id": "tHz-SMToFexi",
        "outputId": "dd09cbda-3be3-4b9b-c2f9-b8817bc237cc",
        "colab": {
          "base_uri": "https://localhost:8080/"
        }
      },
      "execution_count": 38,
      "outputs": [
        {
          "output_type": "stream",
          "name": "stdout",
          "text": [
            "(8, 7)\n"
          ]
        }
      ]
    },
    {
      "cell_type": "code",
      "source": [
        "# But Python is different\n",
        "#use variables  name mnemonic\n",
        "name = \"mohit\"\n",
        "print(name)"
      ],
      "metadata": {
        "id": "eJmktdUOGUIG",
        "outputId": "dc0564fa-b664-4277-d18e-bbc3e7361711",
        "colab": {
          "base_uri": "https://localhost:8080/"
        }
      },
      "execution_count": 45,
      "outputs": [
        {
          "output_type": "stream",
          "name": "stdout",
          "text": [
            "mohit\n"
          ]
        }
      ]
    },
    {
      "cell_type": "markdown",
      "source": [
        "# **Dynamic Typing**\n",
        "\n",
        "In C/C++ or Java like languages, we tell compilers the type of variables while declaration.\n",
        "E.g.:"
      ],
      "metadata": {
        "id": "ctvZnVi-GjLH"
      }
    },
    {
      "cell_type": "code",
      "source": [
        "# int a = 5\n",
        "# string name = 'Mohit'\n",
        "# no need of type declaration as python is dynamic."
      ],
      "metadata": {
        "id": "pSSG5qnxHujO"
      },
      "execution_count": 42,
      "outputs": []
    },
    {
      "cell_type": "markdown",
      "source": [
        "But in Python there's no need of type declaration. It auto-detects the type of variables.\n",
        "\n"
      ],
      "metadata": {
        "id": "d7Ml174IH79u"
      }
    },
    {
      "cell_type": "markdown",
      "source": [
        "# **Static Typing**\n",
        "In C/C++ or Java like languages, we define the type of variables while declaration, this is called static typing and Python does not support this."
      ],
      "metadata": {
        "id": "P87Isru9IGum"
      }
    },
    {
      "cell_type": "markdown",
      "source": [
        "# **Dynamic Binding vs Static Binding**\n",
        "Static binding refers to the execution of a program where type of object is determined at compile time i.e., when compiler executes the code it know the type of object or class to which object belongs. While in case of dynamic binding the type of object is determined at runtime.\n",
        "E.g.: "
      ],
      "metadata": {
        "id": "Ql8-8O_xJBAZ"
      }
    },
    {
      "cell_type": "code",
      "source": [
        "a = 5\n",
        "print(a)\n",
        "print(type(a))\n",
        "\n",
        "a = 'Chhota Bheem'\n",
        "print(a)\n",
        "print(type(a))"
      ],
      "metadata": {
        "id": "aC-zGZqEJ3Tq",
        "outputId": "20248611-189c-49a9-f744-d4b3e18d41fe",
        "colab": {
          "base_uri": "https://localhost:8080/"
        }
      },
      "execution_count": 43,
      "outputs": [
        {
          "output_type": "stream",
          "name": "stdout",
          "text": [
            "5\n",
            "<class 'int'>\n",
            "Chhota Bheem\n",
            "<class 'str'>\n"
          ]
        }
      ]
    },
    {
      "cell_type": "markdown",
      "source": [
        "in static binding once the variable type is declared it cannot hold any other variable type."
      ],
      "metadata": {
        "id": "nWfEqIzTKdZP"
      }
    },
    {
      "cell_type": "markdown",
      "source": [
        "# **Declaring Variables of Python in Style**\n"
      ],
      "metadata": {
        "id": "GHWEbhNoKq3r"
      }
    },
    {
      "cell_type": "code",
      "source": [
        "a = 5\n",
        "print(a)\n",
        "a,b,c = 10,52,15\n",
        "print(a,b,c)\n",
        "a = b = c = 10\n",
        "print(a,b,c)\n",
        "a=4\n",
        "b=5\n",
        "a=b\n",
        "b=a\n",
        "print(a,b)\n",
        "a=4\n",
        "b=5\n",
        "a,b=b,a\n",
        "print(a,b)"
      ],
      "metadata": {
        "id": "6QEPXLiNKzsk",
        "outputId": "2f0d92f7-90bb-4bd7-befe-3bb96e7df2d2",
        "colab": {
          "base_uri": "https://localhost:8080/"
        }
      },
      "execution_count": 48,
      "outputs": [
        {
          "output_type": "stream",
          "name": "stdout",
          "text": [
            "5\n",
            "10 52 15\n",
            "10 10 10\n",
            "5 5\n",
            "5 4\n"
          ]
        }
      ]
    },
    {
      "cell_type": "markdown",
      "source": [
        "# **Comments**"
      ],
      "metadata": {
        "id": "jcp7Rxl4LF1o"
      }
    },
    {
      "cell_type": "code",
      "source": [
        "#"
      ],
      "metadata": {
        "id": "z4UOM8WjVf8L"
      },
      "execution_count": null,
      "outputs": []
    }
  ],
  "metadata": {
    "colab": {
      "name": "Welcome To Colaboratory",
      "provenance": [],
      "include_colab_link": true
    },
    "kernelspec": {
      "display_name": "Python 3",
      "name": "python3"
    }
  },
  "nbformat": 4,
  "nbformat_minor": 0
}