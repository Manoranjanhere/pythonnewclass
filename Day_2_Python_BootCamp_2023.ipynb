{
  "nbformat": 4,
  "nbformat_minor": 0,
  "metadata": {
    "colab": {
      "provenance": [],
      "include_colab_link": true
    },
    "kernelspec": {
      "name": "python3",
      "display_name": "Python 3"
    },
    "language_info": {
      "name": "python"
    }
  },
  "cells": [
    {
      "cell_type": "markdown",
      "metadata": {
        "id": "view-in-github",
        "colab_type": "text"
      },
      "source": [
        "<a href=\"https://colab.research.google.com/github/Manoranjanhere/pythonnewclass/blob/main/Day_2_Python_BootCamp_2023.ipynb\" target=\"_parent\"><img src=\"https://colab.research.google.com/assets/colab-badge.svg\" alt=\"Open In Colab\"/></a>"
      ]
    },
    {
      "cell_type": "markdown",
      "source": [
        "# **USER INPUT**\n",
        "\n",
        "\n",
        "*   \"input()\" function is used to take input from user.\n",
        "*   By default it takes input as a string because string is an universal data format. E.g., int can be converted into string, but vice-versa is not possible.\n",
        "\n"
      ],
      "metadata": {
        "id": "v-sd6swLcJd4"
      }
    },
    {
      "cell_type": "code",
      "source": [
        "# input()\n",
        "\n",
        "\n",
        "# name = input()\n",
        "\n",
        "\n",
        "# input(\"Enter name: \")"
      ],
      "metadata": {
        "id": "pk4BKf7jcovR"
      },
      "execution_count": null,
      "outputs": []
    },
    {
      "cell_type": "markdown",
      "source": [
        "# **TYPE CONVERSION**\n",
        "1) Implicit type conversion: Python internally converts the data type. "
      ],
      "metadata": {
        "id": "wvSTI9Wlc3SK"
      }
    },
    {
      "cell_type": "code",
      "source": [
        "print(5 + 5.6)"
      ],
      "metadata": {
        "id": "Ssf0vW3FdLVB",
        "colab": {
          "base_uri": "https://localhost:8080/"
        },
        "outputId": "e1fab79c-6115-44c8-a1a2-3a6a973290b8"
      },
      "execution_count": 2,
      "outputs": [
        {
          "output_type": "stream",
          "name": "stdout",
          "text": [
            "10.6\n"
          ]
        }
      ]
    },
    {
      "cell_type": "markdown",
      "source": [
        "However, implicit conversion not always works:"
      ],
      "metadata": {
        "id": "9cIl0m-GdP0d"
      }
    },
    {
      "cell_type": "code",
      "source": [
        "#print(5 + '4')"
      ],
      "metadata": {
        "id": "YvNOTgOodVC1"
      },
      "execution_count": 8,
      "outputs": []
    },
    {
      "cell_type": "markdown",
      "source": [
        "2) Explicit Conversion: When programmer requests python to change the data type explicitly. There are some functions to explicitly change the data type."
      ],
      "metadata": {
        "id": "VFz5PVrpdZ8t"
      }
    },
    {
      "cell_type": "code",
      "source": [
        "#String ----> int\n",
        "a = int('4')\n",
        "\n",
        "print(a)\n",
        "print(type(a))\n",
        "#int ----> string\n",
        "print(str(4))\n",
        "\n",
        "#int ----> float\n",
        "print(float(4))"
      ],
      "metadata": {
        "id": "gn7ZAENdd3XK",
        "colab": {
          "base_uri": "https://localhost:8080/"
        },
        "outputId": "e50936c8-9114-417d-b342-def3d599a602"
      },
      "execution_count": 7,
      "outputs": [
        {
          "output_type": "stream",
          "name": "stdout",
          "text": [
            "4\n",
            "<class 'int'>\n",
            "4\n",
            "4.0\n"
          ]
        }
      ]
    },
    {
      "cell_type": "markdown",
      "source": [
        "**NOTE:** *While Type conversion, a new object is created of that instance/data and we work on new converted data.*"
      ],
      "metadata": {
        "id": "VMKzCbJrd6Y7"
      }
    },
    {
      "cell_type": "markdown",
      "source": [
        "**PROGRAM:** *Program to add two numbers, take input from user.*"
      ],
      "metadata": {
        "id": "sWagsM_6d99l"
      }
    },
    {
      "cell_type": "code",
      "source": [
        "a = input(\"enter first number\")\n",
        "b= input(\"enter second number\")\n",
        "print(a+b)\n",
        "result= int(a)+int(b);\n",
        "print(result)"
      ],
      "metadata": {
        "id": "0Hr5NnVheBuT",
        "colab": {
          "base_uri": "https://localhost:8080/"
        },
        "outputId": "1eb9d2a8-1a1f-4d2f-ab7f-c10b2e32c12f"
      },
      "execution_count": 13,
      "outputs": [
        {
          "output_type": "stream",
          "name": "stdout",
          "text": [
            "enter first number5\n",
            "enter second number9\n",
            "59\n",
            "14\n"
          ]
        }
      ]
    },
    {
      "cell_type": "markdown",
      "source": [
        "# **OPERATORS IN PYTHON**\n",
        "1) Arithmetic Operators: (+, -, *, /, //, %, **)\n",
        "\n",
        "2) Relational Operators: (>, <, >=, <=, ==, !=)\n",
        "\n",
        "3) Logical Operators: (and, or, not)\n",
        "\n",
        "4) Bitwise Operators: (&, |, ^, ~, <<, >>)\n",
        "\n",
        "5) Assignment Operators: (=, +=, -=, *=, /=, %=, **=, &=, |=)\n",
        "\n",
        "6) Membership Operators: (in, not in)"
      ],
      "metadata": {
        "id": "-XAh9Ta_eE85"
      }
    },
    {
      "cell_type": "markdown",
      "source": [
        "1) Arithmetic Operators: (+, -, , /, //, %, *)"
      ],
      "metadata": {
        "id": "veYbUseDeJ5a"
      }
    },
    {
      "cell_type": "code",
      "source": [
        "# E.g.\n",
        "a=10\n",
        "b=5\n",
        "print(a+b)\n",
        "print(a-b)\n",
        "print(a/b)\n",
        "print(a//b)\n",
        "print(a%b)"
      ],
      "metadata": {
        "id": "zmqwx-xneKiE",
        "colab": {
          "base_uri": "https://localhost:8080/"
        },
        "outputId": "48ca757c-0572-4821-ffcc-b13d3b879123"
      },
      "execution_count": 12,
      "outputs": [
        {
          "output_type": "stream",
          "name": "stdout",
          "text": [
            "15\n",
            "5\n",
            "2.0\n",
            "2\n",
            "0\n"
          ]
        }
      ]
    },
    {
      "cell_type": "markdown",
      "source": [
        "2) Relational Operators: (>, <, >=, <=, ==, !=)"
      ],
      "metadata": {
        "id": "FYLcuJExeRTt"
      }
    },
    {
      "cell_type": "code",
      "source": [
        "# E.g.\n",
        "print(4>3)\n",
        "print(4<3)\n",
        "print(6==8)"
      ],
      "metadata": {
        "id": "qQBzFzU2eT0S",
        "colab": {
          "base_uri": "https://localhost:8080/"
        },
        "outputId": "94933381-b36f-48e8-a37d-a3298eb75eb8"
      },
      "execution_count": 14,
      "outputs": [
        {
          "output_type": "stream",
          "name": "stdout",
          "text": [
            "True\n",
            "False\n",
            "False\n"
          ]
        }
      ]
    },
    {
      "cell_type": "markdown",
      "source": [
        "3) Logical Operators: (and, or, not)"
      ],
      "metadata": {
        "id": "zcscrDfKea8q"
      }
    },
    {
      "cell_type": "code",
      "source": [
        "# 1) and = returns true if both statements are true\n",
        "print(1 and 0)\n",
        "\n",
        "# 2) or = returns True if one of the statements is true\n",
        "print(1 or 0)\n",
        "\n",
        "# 3) not = reverse the result, returns False if the result is true\n",
        "print(not 1)\n",
        "print(4 and 3)"
      ],
      "metadata": {
        "id": "FhxgFa1Seevd",
        "colab": {
          "base_uri": "https://localhost:8080/"
        },
        "outputId": "b20e70c9-98ea-494e-9031-44f16ba3df6e"
      },
      "execution_count": 17,
      "outputs": [
        {
          "output_type": "stream",
          "name": "stdout",
          "text": [
            "0\n",
            "1\n",
            "False\n",
            "3\n"
          ]
        }
      ]
    },
    {
      "cell_type": "markdown",
      "source": [
        "4) Bitwise Operators: (&, |, ^, ~, <<, >>)"
      ],
      "metadata": {
        "id": "lb-4Fkauemkd"
      }
    },
    {
      "cell_type": "code",
      "source": [],
      "metadata": {
        "id": "BeqNvhyNeqt-"
      },
      "execution_count": null,
      "outputs": []
    },
    {
      "cell_type": "markdown",
      "source": [
        "5) Assignment Operators: (=, +=, -=, *=, /=, %=, **=, &=, |=)\n"
      ],
      "metadata": {
        "id": "S7YekHx4euz8"
      }
    },
    {
      "cell_type": "code",
      "source": [
        "# E.g.\n",
        "a=5\n",
        "b=4\n",
        "print(a&b)\n",
        "a&=b\n",
        "print(a)"
      ],
      "metadata": {
        "id": "LJcNEYWoe6-j",
        "colab": {
          "base_uri": "https://localhost:8080/"
        },
        "outputId": "4d04a685-4d3a-48b1-c393-05200d5712aa"
      },
      "execution_count": 26,
      "outputs": [
        {
          "output_type": "stream",
          "name": "stdout",
          "text": [
            "4\n",
            "4\n"
          ]
        }
      ]
    },
    {
      "cell_type": "markdown",
      "source": [
        "6) Membership Operators: (in, not in)"
      ],
      "metadata": {
        "id": "ni-uJ5pXfNhy"
      }
    },
    {
      "cell_type": "markdown",
      "source": [
        "**PROGRAM:** Find the sum of a 3-digit number entered by the user? "
      ],
      "metadata": {
        "id": "SPjm1eE9ig8Z"
      }
    },
    {
      "cell_type": "code",
      "source": [
        "# E.g.\n",
        "print(1 in [1,5,3])\n",
        "print('a'not in \"python\")\n",
        " "
      ],
      "metadata": {
        "id": "vGHST_9OfPbH",
        "colab": {
          "base_uri": "https://localhost:8080/"
        },
        "outputId": "ec7800b2-3f34-434d-cd30-9b34b99630d6"
      },
      "execution_count": 27,
      "outputs": [
        {
          "output_type": "stream",
          "name": "stdout",
          "text": [
            "True\n",
            "True\n"
          ]
        }
      ]
    },
    {
      "cell_type": "code",
      "source": [
        "a = int(input(\"1st \"))\n",
        "sum=0\n",
        "while(a!=0):\n",
        "  sum+=a%10\n",
        "  a//=10\n",
        "print(sum)"
      ],
      "metadata": {
        "colab": {
          "base_uri": "https://localhost:8080/"
        },
        "id": "KAN8v1UINwQJ",
        "outputId": "7da300c4-7e67-4fd8-aecc-57aca9d18a3e"
      },
      "execution_count": 45,
      "outputs": [
        {
          "output_type": "stream",
          "name": "stdout",
          "text": [
            "1st 456\n",
            "15\n"
          ]
        }
      ]
    },
    {
      "cell_type": "markdown",
      "source": [
        "# **CONDITIONAL STATEMENTS**\n",
        "If-Else is used to code for branching fo code at a certain point of code execution.\n",
        "\n",
        "1) PROGRAM: Login system.\n",
        "\n",
        "2) PROGRAM: Little advance login system.\n",
        "\n",
        "3) PROGRAM: Find minimum of 3 numbers.\n",
        "\n",
        "4) PROGRAM: Menu driven calculator.(HW)"
      ],
      "metadata": {
        "id": "_GFsPnbXjgKk"
      }
    },
    {
      "cell_type": "code",
      "source": [
        "user_name = \"Python\"\n",
        "password=123456\n",
        "user= input(\"Enter user name \")\n",
        "pas= int(input(\"enter password \"))\n",
        "if(user_name==user and password==pas):\n",
        "  print(\"welcome\")\n",
        "else:\n",
        "  print(\"invalid\")"
      ],
      "metadata": {
        "colab": {
          "base_uri": "https://localhost:8080/"
        },
        "id": "H9NdIBG9dVqk",
        "outputId": "f6cdf8e6-28af-402c-d342-51a600034192"
      },
      "execution_count": 53,
      "outputs": [
        {
          "output_type": "stream",
          "name": "stdout",
          "text": [
            "Enter user name python\n",
            "enter password 123456\n",
            "invalid\n"
          ]
        }
      ]
    },
    {
      "cell_type": "code",
      "source": [
        "#Menu driven calculator.(HW)\n",
        "n1= int(input(\"Enter 1st number = \"))\n",
        "n2 = int(input(\"enter second number = \"))\n",
        "operation= input(\"enter operation from +,-,*,/,% = \")\n",
        "if(operation ==\"+\"):\n",
        "  print(n1+n2)\n",
        "elif(operation==\"-\"):\n",
        "  print(n2-n2)\n",
        "elif(operation==\"*\"):\n",
        "  print(n1*n2)\n",
        "elif(operation ==\"/\"):\n",
        "  print(n1/n2)\n",
        "elif(operation==\"%\"):\n",
        "  print(n1%n2)\n",
        "else:\n",
        "  print(\"Wrong input\")"
      ],
      "metadata": {
        "colab": {
          "base_uri": "https://localhost:8080/"
        },
        "id": "TUYe4pYsiWlk",
        "outputId": "48e5b4a4-e501-4f9f-cb6d-a23a064abc8e"
      },
      "execution_count": 57,
      "outputs": [
        {
          "output_type": "stream",
          "name": "stdout",
          "text": [
            "Enter 1st number = 6\n",
            "enter second number = 2\n",
            "enter operation from +,-,*,/,% = %\n",
            "0\n"
          ]
        }
      ]
    }
  ]
}